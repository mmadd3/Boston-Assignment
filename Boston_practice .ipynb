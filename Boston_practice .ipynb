{
 "metadata": {
  "name": "",
  "signature": "sha256:30541af32899f389332bc182696e24294ca689a89200d7df806e5a0b1622e274"
 },
 "nbformat": 3,
 "nbformat_minor": 0,
 "worksheets": [
  {
   "cells": [
    {
     "cell_type": "code",
     "collapsed": false,
     "input": [
      "from sklearn import datasets\n",
      "import pandas as pd\n",
      "%pylab inline\n",
      "from sklearn.preprocessing import StandardScaler\n",
      "from sklearn.cross_validation import train_test_split\n",
      "from sklearn.metrics import mean_squared_error\n",
      "from sklearn.metrics import r2_score\n",
      "from sklearn.linear_model import LinearRegression\n",
      "from sklearn.linear_model import Lasso\n",
      "%matplotlib"
     ],
     "language": "python",
     "metadata": {},
     "outputs": [
      {
       "output_type": "stream",
       "stream": "stdout",
       "text": [
        "Populating the interactive namespace from numpy and matplotlib\n",
        "Using matplotlib backend: MacOSX\n"
       ]
      }
     ],
     "prompt_number": 46
    },
    {
     "cell_type": "code",
     "collapsed": false,
     "input": [
      "bean = datasets.load_boston()\n",
      "print bean.DESCR"
     ],
     "language": "python",
     "metadata": {},
     "outputs": [
      {
       "output_type": "stream",
       "stream": "stdout",
       "text": [
        "Boston House Prices dataset\n",
        "\n",
        "Notes\n",
        "------\n",
        "Data Set Characteristics:  \n",
        "\n",
        "    :Number of Instances: 506 \n",
        "\n",
        "    :Number of Attributes: 13 numeric/categorical predictive\n",
        "    \n",
        "    :Median Value (attribute 14) is usually the target\n",
        "\n",
        "    :Attribute Information (in order):\n",
        "        - CRIM     per capita crime rate by town\n",
        "        - ZN       proportion of residential land zoned for lots over 25,000 sq.ft.\n",
        "        - INDUS    proportion of non-retail business acres per town\n",
        "        - CHAS     Charles River dummy variable (= 1 if tract bounds river; 0 otherwise)\n",
        "        - NOX      nitric oxides concentration (parts per 10 million)\n",
        "        - RM       average number of rooms per dwelling\n",
        "        - AGE      proportion of owner-occupied units built prior to 1940\n",
        "        - DIS      weighted distances to five Boston employment centres\n",
        "        - RAD      index of accessibility to radial highways\n",
        "        - TAX      full-value property-tax rate per $10,000\n",
        "        - PTRATIO  pupil-teacher ratio by town\n",
        "        - B        1000(Bk - 0.63)^2 where Bk is the proportion of blacks by town\n",
        "        - LSTAT    % lower status of the population\n",
        "        - MEDV     Median value of owner-occupied homes in $1000's\n",
        "\n",
        "    :Missing Attribute Values: None\n",
        "\n",
        "    :Creator: Harrison, D. and Rubinfeld, D.L.\n",
        "\n",
        "This is a copy of UCI ML housing dataset.\n",
        "http://archive.ics.uci.edu/ml/datasets/Housing\n",
        "\n",
        "\n",
        "This dataset was taken from the StatLib library which is maintained at Carnegie Mellon University.\n",
        "\n",
        "The Boston house-price data of Harrison, D. and Rubinfeld, D.L. 'Hedonic\n",
        "prices and the demand for clean air', J. Environ. Economics & Management,\n",
        "vol.5, 81-102, 1978.   Used in Belsley, Kuh & Welsch, 'Regression diagnostics\n",
        "...', Wiley, 1980.   N.B. Various transformations are used in the table on\n",
        "pages 244-261 of the latter.\n",
        "\n",
        "The Boston house-price data has been used in many machine learning papers that address regression\n",
        "problems.   \n",
        "     \n",
        "**References**\n",
        "\n",
        "   - Belsley, Kuh & Welsch, 'Regression diagnostics: Identifying Influential Data and Sources of Collinearity', Wiley, 1980. 244-261.\n",
        "   - Quinlan,R. (1993). Combining Instance-Based and Model-Based Learning. In Proceedings on the Tenth International Conference of Machine Learning, 236-243, University of Massachusetts, Amherst. Morgan Kaufmann.\n",
        "   - many more! (see http://archive.ics.uci.edu/ml/datasets/Housing)\n",
        "\n"
       ]
      }
     ],
     "prompt_number": 47
    },
    {
     "cell_type": "code",
     "collapsed": false,
     "input": [
      "def load_boston():\n",
      "    scaler = StandardScaler()\n",
      "    boston = datasets.load_boston()\n",
      "    X=boston.data\n",
      "    y=boston.target\n",
      "    X = scaler.fit_transform(X)\n",
      "    return train_test_split(X,y)\n",
      "    "
     ],
     "language": "python",
     "metadata": {},
     "outputs": [],
     "prompt_number": 48
    },
    {
     "cell_type": "code",
     "collapsed": false,
     "input": [
      "X_train, X_test, y_train, y_test = load_boston()"
     ],
     "language": "python",
     "metadata": {},
     "outputs": [],
     "prompt_number": 49
    },
    {
     "cell_type": "code",
     "collapsed": false,
     "input": [
      "X_train.shape"
     ],
     "language": "python",
     "metadata": {},
     "outputs": [
      {
       "metadata": {},
       "output_type": "pyout",
       "prompt_number": 50,
       "text": [
        "(379, 13)"
       ]
      }
     ],
     "prompt_number": 50
    },
    {
     "cell_type": "markdown",
     "metadata": {},
     "source": [
      "Fitting Linear Regression"
     ]
    },
    {
     "cell_type": "code",
     "collapsed": false,
     "input": [
      "\n",
      "clf = LinearRegression()\n",
      "clf.fit(X_train, y_train)"
     ],
     "language": "python",
     "metadata": {},
     "outputs": [
      {
       "metadata": {},
       "output_type": "pyout",
       "prompt_number": 51,
       "text": [
        "LinearRegression(copy_X=True, fit_intercept=True, normalize=False)"
       ]
      }
     ],
     "prompt_number": 51
    },
    {
     "cell_type": "code",
     "collapsed": false,
     "input": [
      "zip (y_test, clf.predict(X_test))"
     ],
     "language": "python",
     "metadata": {},
     "outputs": [
      {
       "metadata": {},
       "output_type": "pyout",
       "prompt_number": 52,
       "text": [
        "[(19.399999999999999, 23.730641124272786),\n",
        " (8.0999999999999996, 3.9455992545121141),\n",
        " (21.699999999999999, 24.682496788963448),\n",
        " (21.699999999999999, 23.234938007619306),\n",
        " (31.0, 33.322550010271598),\n",
        " (21.899999999999999, 25.830466177281977),\n",
        " (22.899999999999999, 21.07793632496881),\n",
        " (25.0, 29.794692952143674),\n",
        " (20.100000000000001, 19.194897857154665),\n",
        " (7.0, 8.8920808344799731),\n",
        " (31.699999999999999, 33.06550955932088),\n",
        " (20.399999999999999, 20.789058003615526),\n",
        " (24.0, 29.998057206341514),\n",
        " (23.300000000000001, 21.972923902052631),\n",
        " (18.699999999999999, 20.826022474230772),\n",
        " (8.4000000000000004, 2.7125613930634209),\n",
        " (30.300000000000001, 33.366538876758014),\n",
        " (19.300000000000001, 17.038398339935309),\n",
        " (36.399999999999999, 33.096806220937708),\n",
        " (30.100000000000001, 30.081096406836114),\n",
        " (7.2000000000000002, 17.655629408018282),\n",
        " (13.199999999999999, 7.0759667548749228),\n",
        " (20.600000000000001, 21.215648702506417),\n",
        " (24.600000000000001, 23.455349376372077),\n",
        " (22.5, 17.67654100100345),\n",
        " (20.0, 18.631084469175164),\n",
        " (35.200000000000003, 34.557510244910503),\n",
        " (18.699999999999999, 21.140066547122544),\n",
        " (15.4, 12.965885254099685),\n",
        " (50.0, 38.925996221460437),\n",
        " (16.199999999999999, 20.957424175551591),\n",
        " (24.300000000000001, 30.652604103221307),\n",
        " (16.699999999999999, 19.811395718004938),\n",
        " (13.4, 12.48793426450751),\n",
        " (28.5, 34.545104753601471),\n",
        " (19.100000000000001, 17.587885663420902),\n",
        " (20.0, 22.206726616923437),\n",
        " (23.100000000000001, 14.857669031770417),\n",
        " (32.0, 33.884997493783878),\n",
        " (21.699999999999999, 22.500133288197279),\n",
        " (15.0, 18.772236823851152),\n",
        " (10.5, 12.309233886922414),\n",
        " (13.800000000000001, 20.559531278952488),\n",
        " (32.700000000000003, 30.251895685167199),\n",
        " (21.199999999999999, 22.571470834168174),\n",
        " (33.299999999999997, 37.120123921798516),\n",
        " (22.0, 26.104810112608121),\n",
        " (29.0, 32.238064608235398),\n",
        " (22.0, 28.040581656961372),\n",
        " (19.199999999999999, 24.280869039403854),\n",
        " (22.300000000000001, 28.645088710764256),\n",
        " (50.0, 41.515068722533798),\n",
        " (15.6, 10.008955950135601),\n",
        " (50.0, 34.215871423779596),\n",
        " (18.899999999999999, 24.014101465809564),\n",
        " (17.199999999999999, 14.70454415341176),\n",
        " (19.699999999999999, 13.219617738295797),\n",
        " (23.899999999999999, 27.577563452642643),\n",
        " (23.699999999999999, 7.9051369165065015),\n",
        " (22.5, 30.388772956441912),\n",
        " (20.199999999999999, 22.835805204928029),\n",
        " (17.399999999999999, 15.973343711221379),\n",
        " (20.899999999999999, 21.136662657438276),\n",
        " (23.300000000000001, 24.705547028004489),\n",
        " (20.300000000000001, 19.877387016605759),\n",
        " (39.799999999999997, 33.666067360775202),\n",
        " (21.399999999999999, 24.727998134417344),\n",
        " (22.600000000000001, 23.171813132961965),\n",
        " (30.800000000000001, 32.082897612408296),\n",
        " (18.600000000000001, 17.926043173087557),\n",
        " (24.300000000000001, 20.340089278595904),\n",
        " (18.5, 18.978486153070431),\n",
        " (25.0, 24.008453162971083),\n",
        " (20.300000000000001, 22.740664734226662),\n",
        " (27.5, 24.467849765717119),\n",
        " (24.100000000000001, 31.000368203335391),\n",
        " (16.699999999999999, 20.786615848939118),\n",
        " (24.199999999999999, 24.312642259598068),\n",
        " (20.600000000000001, 28.448425806357946),\n",
        " (13.300000000000001, 13.600592892198691),\n",
        " (27.100000000000001, 27.755687879633658),\n",
        " (48.799999999999997, 39.401528583122044),\n",
        " (30.5, 30.806320131575873),\n",
        " (21.199999999999999, 20.63527254726317),\n",
        " (17.800000000000001, 7.4123117895216417),\n",
        " (6.2999999999999998, 9.3110123987140359),\n",
        " (13.9, 16.89241435690149),\n",
        " (19.800000000000001, 20.979578585444241),\n",
        " (50.0, 41.356742895636842),\n",
        " (24.100000000000001, 24.775843183442188),\n",
        " (24.5, 21.698519661265806),\n",
        " (15.699999999999999, 14.053317842438336),\n",
        " (46.0, 39.980140044384001),\n",
        " (17.5, 16.704307695276377),\n",
        " (21.199999999999999, 22.570364323243485),\n",
        " (15.300000000000001, 19.751067408168058),\n",
        " (29.899999999999999, 31.179791683984512),\n",
        " (10.4, 6.7801826338009086),\n",
        " (14.6, 6.3708732529229231),\n",
        " (23.199999999999999, 16.964552926923091),\n",
        " (33.100000000000001, 34.904098782871991),\n",
        " (21.199999999999999, 23.294458802270409),\n",
        " (23.300000000000001, 28.798849715698729),\n",
        " (20.100000000000001, 21.808870410411807),\n",
        " (27.899999999999999, 32.855814017539274),\n",
        " (10.9, 18.180932793113314),\n",
        " (16.0, 19.958984226157366),\n",
        " (23.800000000000001, 27.120743177038136),\n",
        " (16.100000000000001, 22.233475423155895),\n",
        " (27.5, 17.696585090142982),\n",
        " (22.0, 29.182252348092071),\n",
        " (33.399999999999999, 27.984141505390099),\n",
        " (12.699999999999999, 18.524864546160881),\n",
        " (22.699999999999999, 25.767013575252818),\n",
        " (31.5, 30.239692949214202),\n",
        " (27.0, 34.061859372636164),\n",
        " (46.700000000000003, 33.232225410068892),\n",
        " (22.399999999999999, 22.685759046881081),\n",
        " (19.600000000000001, 19.847123901560785),\n",
        " (23.199999999999999, 28.177464290923616),\n",
        " (26.399999999999999, 23.149658753178056),\n",
        " (35.399999999999999, 31.791995389587036),\n",
        " (15.6, 15.736256576635283),\n",
        " (36.100000000000001, 32.402406597359615),\n",
        " (50.0, 37.288968172610495),\n",
        " (22.600000000000001, 18.995567432258788),\n",
        " (32.200000000000003, 32.065163017845201)]"
       ]
      }
     ],
     "prompt_number": 52
    },
    {
     "cell_type": "code",
     "collapsed": false,
     "input": [
      "from sklearn.metrics import r2_score\n",
      "y_true = [3, -0.5, 2, 7]\n",
      "y_pred = [2.5, 0.0, 2, 8]\n",
      "r2_score(y_true, y_pred)  \n",
      "\n",
      "y_true = [[0.5, 1], [-1, 1], [7, -6]]\n",
      "y_pred = [[0, 2], [-1, 2], [8, -5]]\n",
      "r2_score(y_true, y_pred)  \n",
      " "
     ],
     "language": "python",
     "metadata": {},
     "outputs": [
      {
       "metadata": {},
       "output_type": "pyout",
       "prompt_number": 53,
       "text": [
        "0.93825665859564167"
       ]
      }
     ],
     "prompt_number": 53
    },
    {
     "cell_type": "code",
     "collapsed": false,
     "input": [
      "from sklearn.metrics import mean_squared_error\n",
      "y_true = [3, -0.5, 2, 7]\n",
      "y_pred = [2.5, 0.0, 2, 8]\n",
      "mean_squared_error(y_true, y_pred)\n",
      "\n",
      "y_true = [[0.5, 1],[-1, 1],[7, -6]]\n",
      "y_pred = [[0, 2],[-1, 2],[8, -5]]\n",
      "mean_squared_error(y_true, y_pred)"
     ],
     "language": "python",
     "metadata": {},
     "outputs": [
      {
       "metadata": {},
       "output_type": "pyout",
       "prompt_number": 54,
       "text": [
        "0.70833333333333337"
       ]
      }
     ],
     "prompt_number": 54
    },
    {
     "cell_type": "code",
     "collapsed": false,
     "input": [
      "from sklearn.metrics import mean_squared_error\n",
      "y_true = [3, -1, 6, 4]\n",
      "y_pred = [2.5, 1, 2, 8]\n",
      "mean_squared_error(y_true, y_pred)\n",
      "\n",
      "y_true = [[-0.5, 1],[-1, 1],[7, -6]]\n",
      "y_pred = [[0, -2],[-1, 2],[8, -5]]\n",
      "mean_squared_error(y_true, y_pred)"
     ],
     "language": "python",
     "metadata": {},
     "outputs": [
      {
       "metadata": {},
       "output_type": "pyout",
       "prompt_number": 55,
       "text": [
        "2.0416666666666665"
       ]
      }
     ],
     "prompt_number": 55
    },
    {
     "cell_type": "code",
     "collapsed": false,
     "input": [
      "print(__doc__)\n",
      "\n",
      "import numpy as np\n",
      "import matplotlib.pyplot as plt\n",
      "\n",
      "from sklearn.metrics import r2_score\n",
      "\n",
      "###############################################################################\n",
      "# generate some sparse data to play with\n",
      "np.random.seed(42)\n",
      "\n",
      "n_samples, n_features = 50, 200\n",
      "X = np.random.randn(n_samples, n_features)\n",
      "coef = 3 * np.random.randn(n_features)\n",
      "inds = np.arange(n_features)\n",
      "np.random.shuffle(inds)\n",
      "coef[inds[10:]] = 0  # sparsify coef\n",
      "y = np.dot(X, coef)\n",
      "\n",
      "# add noise\n",
      "y += 0.01 * np.random.normal((n_samples,))\n",
      "\n",
      "# Split data in train set and test set\n",
      "n_samples = X.shape[0]\n",
      "X_train, y_train = X[:n_samples / 2], y[:n_samples / 2]\n",
      "X_test, y_test = X[n_samples / 2:], y[n_samples / 2:]\n",
      "\n",
      "###############################################################################\n",
      "# Lasso\n",
      "from sklearn.linear_model import Lasso\n",
      "\n",
      "alpha = 0.1\n",
      "lasso = Lasso(alpha=alpha)\n",
      "\n",
      "y_pred_lasso = lasso.fit(X_train, y_train).predict(X_test)\n",
      "r2_score_lasso = r2_score(y_test, y_pred_lasso)\n",
      "print(lasso)\n",
      "print(\"r^2 on test data : %f\" % r2_score_lasso)\n",
      "\n",
      "###############################################################################\n",
      "# ElasticNet\n",
      "from sklearn.linear_model import ElasticNet\n",
      "\n",
      "enet = ElasticNet(alpha=alpha, l1_ratio=0.7)\n",
      "\n",
      "y_pred_enet = enet.fit(X_train, y_train).predict(X_test)\n",
      "r2_score_enet = r2_score(y_test, y_pred_enet)\n",
      "print(enet)\n",
      "print(\"r^2 on test data : %f\" % r2_score_enet)\n",
      "\n",
      "plt.plot(enet.coef_, label='Elastic net coefficients')\n",
      "plt.plot(lasso.coef_, label='Lasso coefficients')\n",
      "plt.plot(coef, '--', label='original coefficients')\n",
      "plt.legend(loc='best')\n",
      "plt.title(\"Lasso R^2: %f, Elastic Net R^2: %f\"\n",
      "          % (r2_score_lasso, r2_score_enet))\n",
      "plt.show()\n",
      " "
     ],
     "language": "python",
     "metadata": {},
     "outputs": [
      {
       "output_type": "stream",
       "stream": "stdout",
       "text": [
        "Automatically created module for IPython interactive environment\n",
        "Lasso(alpha=0.1, copy_X=True, fit_intercept=True, max_iter=1000,\n",
        "   normalize=False, positive=False, precompute='auto', tol=0.0001,\n",
        "   warm_start=False)\n",
        "r^2 on test data : 0.384710\n",
        "ElasticNet(alpha=0.1, copy_X=True, fit_intercept=True, l1_ratio=0.7,\n",
        "      max_iter=1000, normalize=False, positive=False, precompute='auto',\n",
        "      tol=0.0001, warm_start=False)\n",
        "r^2 on test data : 0.240176\n"
       ]
      },
      {
       "metadata": {},
       "output_type": "display_data",
       "png": "[encoded data removed]",
       "text": [
        "<matplotlib.figure.Figure at 0x10ed379d0>"
       ]
      }
     ],
     "prompt_number": 56
    },
    {
     "cell_type": "code",
     "collapsed": false,
     "input": [
      "print(__doc__)\n",
      "\n",
      "import numpy as np\n",
      "import matplotlib.pyplot as plt\n",
      "\n",
      "from sklearn.metrics import r2_score\n",
      "\n",
      "###############################################################################\n",
      "# generate some sparse data to play with\n",
      "np.random.seed(42)\n",
      "\n",
      "n_samples, n_features = 50, 200\n",
      "X = np.random.randn(n_samples, n_features)\n",
      "coef = 3 * np.random.randn(n_features)\n",
      "inds = np.arange(n_features)\n",
      "np.random.shuffle(inds)\n",
      "coef[inds[10:]] = 0  # sparsify coef\n",
      "y = np.dot(X, coef)\n",
      "\n",
      "# add noise\n",
      "y += 0.01 * np.random.normal((n_samples,))\n",
      "\n",
      "# Split data in train set and test set\n",
      "n_samples = X.shape[0]\n",
      "X_train, y_train = X[:n_samples / 2], y[:n_samples / 2]\n",
      "X_test, y_test = X[n_samples / 2:], y[n_samples / 2:]\n",
      "\n",
      "###############################################################################\n",
      "# Lasso\n",
      "from sklearn.linear_model import Lasso\n",
      "\n",
      "alpha = 0.1\n",
      "lasso = Lasso(alpha=alpha)\n",
      "\n",
      "y_pred_lasso = lasso.fit(X_train, y_train).predict(X_test)\n",
      "r2_score_lasso = r2_score(y_test, y_pred_lasso)\n",
      "print(lasso)\n",
      "print(\"r^2 on test data : %f\" % r2_score_lasso)\n",
      "\n",
      "###############################################################################\n",
      "# ElasticNet\n",
      "from sklearn.linear_model import ElasticNet\n",
      "\n",
      "enet = ElasticNet(alpha=alpha, l1_ratio=0.7)\n",
      "\n",
      "y_pred_enet = enet.fit(X_train, y_train).predict(X_test)\n",
      "r2_score_enet = r2_score(y_test, y_pred_enet)\n",
      "print(enet)\n",
      "print(\"r^2 on test data : %f\" % r2_score_enet)\n",
      "\n",
      "plt.plot(enet.coef_, label='Elastic net coefficients')\n",
      "plt.plot(lasso.coef_, label='Lasso coefficients')\n",
      "plt.plot(coef, '--', label='original coefficients')\n",
      "plt.legend(loc='best')\n",
      "plt.title(\"Lasso R^2: %f, Elastic Net R^2: %f\"\n",
      "          % (r2_score_lasso, r2_score_enet))\n",
      "plt.show() "
     ],
     "language": "python",
     "metadata": {},
     "outputs": [
      {
       "output_type": "stream",
       "stream": "stdout",
       "text": [
        "Automatically created module for IPython interactive environment\n",
        "Lasso(alpha=0.1, copy_X=True, fit_intercept=True, max_iter=1000,\n",
        "   normalize=False, positive=False, precompute='auto', tol=0.0001,\n",
        "   warm_start=False)\n",
        "r^2 on test data : 0.384710\n",
        "ElasticNet(alpha=0.1, copy_X=True, fit_intercept=True, l1_ratio=0.7,\n",
        "      max_iter=1000, normalize=False, positive=False, precompute='auto',\n",
        "      tol=0.0001, warm_start=False)\n",
        "r^2 on test data : 0.240176\n"
       ]
      },
      {
       "metadata": {},
       "output_type": "display_data",
       "png": "[encoded data removed]",
       "text": [
        "<matplotlib.figure.Figure at 0x10eb82ed0>"
       ]
      }
     ],
     "prompt_number": 57
    },
    {
     "cell_type": "code",
     "collapsed": false,
     "input": [
      "print(__doc__)\n",
      "\n",
      "import numpy as np\n",
      "import matplotlib.pyplot as plt\n",
      "\n",
      "from sklearn.metrics import r2_score\n",
      " \n",
      "from sklearn.linear_model import Lasso\n",
      "\n",
      "alpha = 1.0\n",
      "lasso = Lasso(alpha=alpha)\n",
      "\n",
      "y_pred_lasso = lasso.fit(X_train, y_train).predict(X_test)\n",
      "r2_score_lasso = r2_score(y_test, y_pred_lasso)\n",
      "print(lasso)\n",
      "print(\"r^2 on test data : %f\" % r2_score_lasso)\n",
      "\n",
      "plt.plot(lasso.coef_, label='Lasso coefficients')\n",
      "plt.plot(coef, '--', label='original coefficients')\n",
      "plt.legend(loc='best')\n",
      "\n",
      "plt.show()"
     ],
     "language": "python",
     "metadata": {},
     "outputs": [
      {
       "output_type": "stream",
       "stream": "stdout",
       "text": [
        "Automatically created module for IPython interactive environment\n",
        "Lasso(alpha=1.0, copy_X=True, fit_intercept=True, max_iter=1000,\n",
        "   normalize=False, positive=False, precompute='auto', tol=0.0001,\n",
        "   warm_start=False)\n",
        "r^2 on test data : 0.242944\n"
       ]
      },
      {
       "metadata": {},
       "output_type": "display_data",
       "png": "[encoded data removed]",
       "text": [
        "<matplotlib.figure.Figure at 0x10f013850>"
       ]
      }
     ],
     "prompt_number": 65
    },
    {
     "cell_type": "code",
     "collapsed": false,
     "input": [
      "print(__doc__)\n",
      "\n",
      "import numpy as np\n",
      "import matplotlib.pyplot as plt\n",
      "\n",
      "from sklearn.metrics import r2_score\n",
      " \n",
      "from sklearn.linear_model import Lasso\n",
      "\n",
      "alpha = 10.0\n",
      "lasso = Lasso(alpha=alpha)\n",
      "\n",
      "y_pred_lasso = lasso.fit(X_train, y_train).predict(X_test)\n",
      "r2_score_lasso = r2_score(y_test, y_pred_lasso)\n",
      "print(lasso)\n",
      "print(\"r^2 on test data : %f\" % r2_score_lasso)\n",
      "\n",
      "plt.plot(lasso.coef_, label='Lasso coefficients')\n",
      "plt.plot(coef, '--', label='original coefficients')\n",
      "plt.legend(loc='best')\n",
      "\n",
      "plt.show()"
     ],
     "language": "python",
     "metadata": {},
     "outputs": [
      {
       "output_type": "stream",
       "stream": "stdout",
       "text": [
        "Automatically created module for IPython interactive environment\n",
        "Lasso(alpha=10.0, copy_X=True, fit_intercept=True, max_iter=1000,\n",
        "   normalize=False, positive=False, precompute='auto', tol=0.0001,\n",
        "   warm_start=False)\n",
        "r^2 on test data : -0.022738\n"
       ]
      },
      {
       "metadata": {},
       "output_type": "display_data",
       "png": "[encoded data removed]",
       "text": [
        "<matplotlib.figure.Figure at 0x10f00ecd0>"
       ]
      }
     ],
     "prompt_number": 67
    },
    {
     "cell_type": "code",
     "collapsed": false,
     "input": [
      "import numpy as np\n",
      "\n",
      "def rmse(predictions, targets):\n",
      "    return np.sqrt(((predictions - targets) ** 2).mean())"
     ],
     "language": "python",
     "metadata": {},
     "outputs": [],
     "prompt_number": 68
    },
    {
     "cell_type": "code",
     "collapsed": false,
     "input": [
      "print rmse(np.array(data), np.array([0,2,6]))"
     ],
     "language": "python",
     "metadata": {},
     "outputs": [
      {
       "ename": "NameError",
       "evalue": "name 'data' is not defined",
       "output_type": "pyerr",
       "traceback": [
        "\u001b[0;31m---------------------------------------------------------------------------\u001b[0m\n\u001b[0;31mNameError\u001b[0m                                 Traceback (most recent call last)",
        "\u001b[0;32m<ipython-input-72-19ec79f3c3a4>\u001b[0m in \u001b[0;36m<module>\u001b[0;34m()\u001b[0m\n\u001b[0;32m----> 1\u001b[0;31m \u001b[0;32mprint\u001b[0m \u001b[0mrmse\u001b[0m\u001b[0;34m(\u001b[0m\u001b[0mnp\u001b[0m\u001b[0;34m.\u001b[0m\u001b[0marray\u001b[0m\u001b[0;34m(\u001b[0m\u001b[0mdata\u001b[0m\u001b[0;34m)\u001b[0m\u001b[0;34m,\u001b[0m \u001b[0mnp\u001b[0m\u001b[0;34m.\u001b[0m\u001b[0marray\u001b[0m\u001b[0;34m(\u001b[0m\u001b[0;34m[\u001b[0m\u001b[0;36m0\u001b[0m\u001b[0;34m,\u001b[0m\u001b[0;36m2\u001b[0m\u001b[0;34m,\u001b[0m\u001b[0;36m6\u001b[0m\u001b[0;34m]\u001b[0m\u001b[0;34m)\u001b[0m\u001b[0;34m)\u001b[0m\u001b[0;34m\u001b[0m\u001b[0m\n\u001b[0m",
        "\u001b[0;31mNameError\u001b[0m: name 'data' is not defined"
       ]
      }
     ],
     "prompt_number": 72
    },
    {
     "cell_type": "code",
     "collapsed": false,
     "input": [],
     "language": "python",
     "metadata": {},
     "outputs": []
    }
   ],
   "metadata": {}
  }
 ]
}